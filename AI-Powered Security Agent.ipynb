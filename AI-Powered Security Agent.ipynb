{
 "cells": [
  {
   "cell_type": "markdown",
   "id": "95b94363-82cc-41ac-af1f-68dbe0770536",
   "metadata": {},
   "source": [
    "# AI-Powered Security Agent"
   ]
  },
  {
   "cell_type": "markdown",
   "id": "c97ff9f1-b31b-4a0c-bf20-eefbcc5a6c8e",
   "metadata": {},
   "source": [
    "## Workflow for Handling Alerts"
   ]
  },
  {
   "cell_type": "markdown",
   "id": "260f465b-32b4-4f42-a824-6b93e5d123a9",
   "metadata": {},
   "source": [
    "<img src=\"Workflow_for_Handling_Alerts.png\" style=\"border: 2px solid black; display: block; margin: auto;\" width=\"1500\">\n"
   ]
  },
  {
   "cell_type": "markdown",
   "id": "afc16d14-86e6-45e2-8f1a-720fb7cac615",
   "metadata": {},
   "source": [
    "## Workflow for OpenAI Analysis and Priority Determination using Agentic Tools"
   ]
  },
  {
   "cell_type": "markdown",
   "id": "f6ceb367-5db4-4855-aed8-5490bada60b5",
   "metadata": {},
   "source": [
    "<img src=\"Workflow_for_open_ai_analysis.png\" style=\"border: 2px solid black; display: block; margin: auto;\" width=\"1200\">\n"
   ]
  },
  {
   "cell_type": "markdown",
   "id": "4934d871-1bab-428e-8b17-d48d23cda255",
   "metadata": {},
   "source": [
    "# Step 1: Install Required Libraries\n"
   ]
  },
  {
   "cell_type": "code",
   "execution_count": 3,
   "id": "e5a933ea-3301-444b-9c4f-d1509e641e66",
   "metadata": {},
   "outputs": [
    {
     "name": "stdout",
     "output_type": "stream",
     "text": [
      "Requirement already satisfied: openai in ./venv/lib/python3.13/site-packages (1.58.1)\n",
      "Requirement already satisfied: anyio<5,>=3.5.0 in ./venv/lib/python3.13/site-packages (from openai) (4.7.0)\n",
      "Requirement already satisfied: distro<2,>=1.7.0 in ./venv/lib/python3.13/site-packages (from openai) (1.9.0)\n",
      "Requirement already satisfied: httpx<1,>=0.23.0 in ./venv/lib/python3.13/site-packages (from openai) (0.28.1)\n",
      "Requirement already satisfied: jiter<1,>=0.4.0 in ./venv/lib/python3.13/site-packages (from openai) (0.8.2)\n",
      "Requirement already satisfied: pydantic<3,>=1.9.0 in ./venv/lib/python3.13/site-packages (from openai) (2.10.4)\n",
      "Requirement already satisfied: sniffio in ./venv/lib/python3.13/site-packages (from openai) (1.3.1)\n",
      "Requirement already satisfied: tqdm>4 in ./venv/lib/python3.13/site-packages (from openai) (4.67.1)\n",
      "Requirement already satisfied: typing-extensions<5,>=4.11 in ./venv/lib/python3.13/site-packages (from openai) (4.12.2)\n",
      "Requirement already satisfied: idna>=2.8 in ./venv/lib/python3.13/site-packages (from anyio<5,>=3.5.0->openai) (3.10)\n",
      "Requirement already satisfied: certifi in ./venv/lib/python3.13/site-packages (from httpx<1,>=0.23.0->openai) (2024.12.14)\n",
      "Requirement already satisfied: httpcore==1.* in ./venv/lib/python3.13/site-packages (from httpx<1,>=0.23.0->openai) (1.0.7)\n",
      "Requirement already satisfied: h11<0.15,>=0.13 in ./venv/lib/python3.13/site-packages (from httpcore==1.*->httpx<1,>=0.23.0->openai) (0.14.0)\n",
      "Requirement already satisfied: annotated-types>=0.6.0 in ./venv/lib/python3.13/site-packages (from pydantic<3,>=1.9.0->openai) (0.7.0)\n",
      "Requirement already satisfied: pydantic-core==2.27.2 in ./venv/lib/python3.13/site-packages (from pydantic<3,>=1.9.0->openai) (2.27.2)\n",
      "\n",
      "\u001b[1m[\u001b[0m\u001b[34;49mnotice\u001b[0m\u001b[1;39;49m]\u001b[0m\u001b[39;49m A new release of pip is available: \u001b[0m\u001b[31;49m24.2\u001b[0m\u001b[39;49m -> \u001b[0m\u001b[32;49m24.3.1\u001b[0m\n",
      "\u001b[1m[\u001b[0m\u001b[34;49mnotice\u001b[0m\u001b[1;39;49m]\u001b[0m\u001b[39;49m To update, run: \u001b[0m\u001b[32;49mpip install --upgrade pip\u001b[0m\n"
     ]
    }
   ],
   "source": [
    "!pip install openai"
   ]
  },
  {
   "cell_type": "markdown",
   "id": "a7cc5fde-cc23-4b56-96f3-b1bd02eaf836",
   "metadata": {},
   "source": [
    "# Step 2: Set Up OpenAI API Key"
   ]
  },
  {
   "cell_type": "code",
   "execution_count": 12,
   "id": "c03428e4-4af6-46c9-bd58-db2fe2891247",
   "metadata": {},
   "outputs": [
    {
     "name": "stdin",
     "output_type": "stream",
     "text": [
      " ········\n"
     ]
    }
   ],
   "source": [
    "import openai\n",
    "import getpass\n",
    "import os\n",
    "\n",
    "#openai.api_key = getpass.getpass(\"Enter your OpenAI API key: \")\n",
    "os.environ[\"OPENAI_API_KEY\"] = getpass.getpass()\n"
   ]
  },
  {
   "cell_type": "markdown",
   "id": "8c8705c4-296b-4b49-b519-ecc2dcf60594",
   "metadata": {},
   "source": [
    "# Step 3: Initialize SQLite Database\n"
   ]
  },
  {
   "cell_type": "code",
   "execution_count": 5,
   "id": "7e4b1788-34f0-4ca4-9f36-2626f9bd6898",
   "metadata": {},
   "outputs": [
    {
     "name": "stdout",
     "output_type": "stream",
     "text": [
      "SQLite database and table initialized.\n"
     ]
    }
   ],
   "source": [
    "import sqlite3\n",
    "\n",
    "# Connect to SQLite database\n",
    "conn = sqlite3.connect(\"soc_alerts.db\")\n",
    "cursor = conn.cursor()\n",
    "\n",
    "# Create a table for storing alerts\n",
    "cursor.execute('''\n",
    "CREATE TABLE IF NOT EXISTS alerts (\n",
    "    id INTEGER PRIMARY KEY AUTOINCREMENT,\n",
    "    alert_data TEXT,\n",
    "    analysis TEXT,\n",
    "    response_plan TEXT,\n",
    "    response_mode TEXT, -- manual, semi_autonomous, or autonomous\n",
    "    status TEXT -- pending, resolved\n",
    ")\n",
    "''')\n",
    "conn.commit()\n",
    "\n",
    "print(\"SQLite database and table initialized.\")\n"
   ]
  },
  {
   "cell_type": "markdown",
   "id": "7f40c058-b0f9-4411-99ee-f5519586ef43",
   "metadata": {},
   "source": [
    "# Step 4: Simulate Receiving an Alert\n"
   ]
  },
  {
   "cell_type": "code",
   "execution_count": 6,
   "id": "3a3eaed6-5891-4d4f-85ef-58e1e54b0fac",
   "metadata": {},
   "outputs": [
    {
     "name": "stdout",
     "output_type": "stream",
     "text": [
      "Alert received and stored in the database with ID: 1\n"
     ]
    }
   ],
   "source": [
    "import json\n",
    "\n",
    "def receive_alert(alert_data):\n",
    "    \"\"\"\n",
    "    Simulate receiving an alert and insert it into the SQLite database.\n",
    "    \"\"\"\n",
    "    cursor.execute(\n",
    "        \"INSERT INTO alerts (alert_data, status) VALUES (?, ?)\", \n",
    "        (json.dumps(alert_data), \"pending\")\n",
    "    )\n",
    "    conn.commit()\n",
    "    return cursor.lastrowid\n",
    "\n",
    "# Example alert data\n",
    "alert = {\n",
    "    \"alert_type\": \"suspicious_login\",\n",
    "    \"details\": \"Login attempt from an unrecognized IP address.\"\n",
    "}\n",
    "\n",
    "# Insert the alert into the database\n",
    "alert_id = receive_alert(alert)\n",
    "print(f\"Alert received and stored in the database with ID: {alert_id}\")\n"
   ]
  },
  {
   "cell_type": "markdown",
   "id": "55a695e7-6eb1-4bf3-88ba-817460359fc6",
   "metadata": {},
   "source": [
    "# Step 5: Analyze the Alert"
   ]
  },
  {
   "cell_type": "code",
   "execution_count": 13,
   "id": "f924a701-dd2e-42bc-a11e-cc2857cc7e9c",
   "metadata": {},
   "outputs": [
    {
     "name": "stdout",
     "output_type": "stream",
     "text": [
      "Tool Calls Output:\n",
      "[ChatCompletionMessageToolCall(id='call_M70PjMOvENk8FDtvpnW3QAgm', function=Function(arguments='{\"alert_data\":\"{\\\\\"alert_type\\\\\": \\\\\"suspicious_login\\\\\", \\\\\"details\\\\\": \\\\\"Login attempt from an unrecognized IP address.\\\\\"}\"}', name='analyze_alert'), type='function')]\n"
     ]
    }
   ],
   "source": [
    "from openai import OpenAI\n",
    "import json\n",
    "\n",
    "# Initialize the OpenAI client\n",
    "client = OpenAI()\n",
    "\n",
    "# Define tools (functions) for the OpenAI model\n",
    "tools = [\n",
    "    {\n",
    "        \"type\": \"function\",\n",
    "        \"function\": {\n",
    "            \"name\": \"analyze_alert\",\n",
    "            \"parameters\": {\n",
    "                \"type\": \"object\",\n",
    "                \"properties\": {\n",
    "                    \"alert_data\": {\"type\": \"string\"},\n",
    "                },\n",
    "                \"required\": [\"alert_data\"],\n",
    "            },\n",
    "        },\n",
    "    }\n",
    "]\n",
    "\n",
    "# Alert data to analyze\n",
    "alert_data = {\n",
    "    \"alert_type\": \"suspicious_login\",\n",
    "    \"details\": \"Login attempt from an unrecognized IP address.\",\n",
    "}\n",
    "\n",
    "# Call OpenAI to analyze the alert\n",
    "completion = client.chat.completions.create(\n",
    "    model=\"gpt-4o\",\n",
    "    messages=[\n",
    "        {\"role\": \"system\", \"content\": \"You are a SOC AI assistant.\"},\n",
    "        {\"role\": \"user\", \"content\": f\"Analyze this alert: {json.dumps(alert_data)}\"},\n",
    "    ],\n",
    "    tools=tools,\n",
    ")\n",
    "\n",
    "# Extract and print the tool calls (function responses)\n",
    "tool_calls = completion.choices[0].message.tool_calls\n",
    "print(\"Tool Calls Output:\")\n",
    "print(tool_calls)\n"
   ]
  },
  {
   "cell_type": "code",
   "execution_count": 14,
   "id": "0120acbb-7d87-4ab6-846c-56f34baac319",
   "metadata": {},
   "outputs": [
    {
     "name": "stdout",
     "output_type": "stream",
     "text": [
      "Analyzed Alert Data:\n",
      "{\n",
      "  \"alert_type\": \"suspicious_login\",\n",
      "  \"details\": \"Login attempt from an unrecognized IP address.\"\n",
      "}\n"
     ]
    }
   ],
   "source": [
    "# Extract the tool call from the output\n",
    "tool_call = completion.choices[0].message.tool_calls[0]  # First tool call\n",
    "\n",
    "# Parse the arguments from the function call\n",
    "function_arguments = json.loads(tool_call.function.arguments)\n",
    "\n",
    "# Extract and print the alert data analyzed\n",
    "alert_data_analyzed = json.loads(function_arguments[\"alert_data\"])\n",
    "\n",
    "print(\"Analyzed Alert Data:\")\n",
    "print(json.dumps(alert_data_analyzed, indent=2))\n"
   ]
  },
  {
   "cell_type": "markdown",
   "id": "905b85ec-34d5-4f47-8442-d89fa8306665",
   "metadata": {},
   "source": [
    "# Step 6: Generate a Response Plan and Handle Response Modes"
   ]
  },
  {
   "cell_type": "code",
   "execution_count": 15,
   "id": "d046d6a2-b299-4c8e-8e18-2b30de640256",
   "metadata": {},
   "outputs": [
    {
     "name": "stdout",
     "output_type": "stream",
     "text": [
      "Generated Response Plan:\n",
      "\n",
      "Root Cause Analysis:\n",
      "Alert Type: {\"alert_type\": \"suspicious_login\", \"details\": \"Login attempt from an unrecognized IP address.\"}\n",
      "\n",
      "Response Plan:\n",
      "1. Verify the user's login location and IP address.\n",
      "2. Notify the user about suspicious activity.\n",
      "3. Temporarily lock the account if deemed necessary.\n",
      "\n"
     ]
    }
   ],
   "source": [
    "# Define updated tools for generating response plans\n",
    "tools = [\n",
    "    {\n",
    "        \"type\": \"function\",\n",
    "        \"function\": {\n",
    "            \"name\": \"analyze_alert\",\n",
    "            \"parameters\": {\n",
    "                \"type\": \"object\",\n",
    "                \"properties\": {\n",
    "                    \"alert_data\": {\"type\": \"string\"}\n",
    "                },\n",
    "                \"required\": [\"alert_data\"]\n",
    "            },\n",
    "        },\n",
    "    }\n",
    "]\n",
    "\n",
    "# Simulate analyzing the alert and generating a response plan\n",
    "completion = client.chat.completions.create(\n",
    "    model=\"gpt-4o\",\n",
    "    messages=[\n",
    "        {\"role\": \"system\", \"content\": \"You are a SOC AI assistant.\"},\n",
    "        {\"role\": \"user\", \"content\": f\"Analyze this alert: {json.dumps(alert_data)}\"}\n",
    "    ],\n",
    "    tools=tools,\n",
    ")\n",
    "\n",
    "# Extract and parse the tool call arguments\n",
    "tool_call = completion.choices[0].message.tool_calls[0]\n",
    "function_arguments = json.loads(tool_call.function.arguments)\n",
    "\n",
    "# Simulated response plan\n",
    "response_plan = f\"\"\"\n",
    "Root Cause Analysis:\n",
    "Alert Type: {function_arguments['alert_data']}\n",
    "\n",
    "Response Plan:\n",
    "1. Verify the user's login location and IP address.\n",
    "2. Notify the user about suspicious activity.\n",
    "3. Temporarily lock the account if deemed necessary.\n",
    "\"\"\"\n",
    "\n",
    "print(\"Generated Response Plan:\")\n",
    "print(response_plan)\n"
   ]
  },
  {
   "cell_type": "code",
   "execution_count": null,
   "id": "466cd7da-a69e-4c2a-b5ff-7fc5f7bea9f7",
   "metadata": {},
   "outputs": [],
   "source": []
  },
  {
   "cell_type": "code",
   "execution_count": 16,
   "id": "443bdcb0-98cb-4f5f-85c0-f1450e4b4dda",
   "metadata": {},
   "outputs": [
    {
     "name": "stdout",
     "output_type": "stream",
     "text": [
      "Manual Mode:\n",
      "\n",
      "Root Cause Analysis:\n",
      "Alert Type: {\"alert_type\": \"suspicious_login\", \"details\": \"Login attempt from an unrecognized IP address.\"}\n",
      "\n",
      "Response Plan:\n",
      "1. Verify the user's login location and IP address.\n",
      "2. Notify the user about suspicious activity.\n",
      "3. Temporarily lock the account if deemed necessary.\n",
      "\n"
     ]
    },
    {
     "name": "stdin",
     "output_type": "stream",
     "text": [
      "Press Enter once you’ve executed the response. \n"
     ]
    }
   ],
   "source": [
    "# Choose the response mode: manual, semi_autonomous, or autonomous\n",
    "response_mode = \"manual\"  \n",
    "\n",
    "if response_mode == \"manual\":\n",
    "    print(\"Manual Mode:\")\n",
    "    print(response_plan)\n",
    "    input(\"Press Enter once you’ve executed the response.\")\n",
    "elif response_mode == \"semi_autonomous\":\n",
    "    execute = input(\"Execute response plan? (yes/no): \").strip().lower()\n",
    "    if execute == \"yes\":\n",
    "        print(\"Executing response...\")\n",
    "        print(response_plan)\n",
    "elif response_mode == \"autonomous\":\n",
    "    print(\"Autonomously executing response...\")\n",
    "    print(response_plan)\n"
   ]
  },
  {
   "cell_type": "markdown",
   "id": "3ea30eef-29cc-4720-b39f-3bef90563251",
   "metadata": {},
   "source": [
    "# Step 7: Save the Response Plan and Update Alert Status in SQLite\n"
   ]
  },
  {
   "cell_type": "code",
   "execution_count": 19,
   "id": "c6b344aa-bcbb-40e0-ac6d-888c8cffe8db",
   "metadata": {},
   "outputs": [
    {
     "name": "stdout",
     "output_type": "stream",
     "text": [
      "Analysis and response plan saved for Alert ID: 1\n"
     ]
    }
   ],
   "source": [
    "def save_analysis_and_response(alert_id, analysis, response_plan, response_mode):\n",
    "    \"\"\"\n",
    "    Save analysis, response plan, and response mode to the SQLite database and update the alert status.\n",
    "    \"\"\"\n",
    "    cursor.execute(\n",
    "        \"UPDATE alerts SET analysis = ?, response_plan = ?, response_mode = ?, status = ? WHERE id = ?\",\n",
    "        (analysis, response_plan, response_mode, \"resolved\", alert_id)\n",
    "    )\n",
    "    conn.commit()\n",
    "    print(f\"Analysis and response plan saved for Alert ID: {alert_id}\")\n",
    "\n",
    "# Example Analysis\n",
    "analysis = \"The alert was caused by an unrecognized IP login, indicating possible credential compromise.\"\n",
    "\n",
    "# Save with manual mode\n",
    "save_analysis_and_response(alert_id, analysis, response_plan, \"manual\")\n"
   ]
  },
  {
   "cell_type": "markdown",
   "id": "052b829e-63b9-42e7-a60b-809ffeeec3f3",
   "metadata": {},
   "source": [
    "### Verify the Update\n"
   ]
  },
  {
   "cell_type": "code",
   "execution_count": 20,
   "id": "7f51d9d8-6429-4d75-ac35-485fdee9e0c5",
   "metadata": {
    "collapsed": true,
    "jupyter": {
     "outputs_hidden": true
    }
   },
   "outputs": [
    {
     "name": "stdout",
     "output_type": "stream",
     "text": [
      "Updated Alert Record with Analysis and Response Mode:\n",
      "(1, '{\"alert_type\": \"suspicious_login\", \"details\": \"Login attempt from an unrecognized IP address.\"}', 'The alert was caused by an unrecognized IP login, indicating possible credential compromise.', '\\nRoot Cause Analysis:\\nAlert Type: {\"alert_type\": \"suspicious_login\", \"details\": \"Login attempt from an unrecognized IP address.\"}\\n\\nResponse Plan:\\n1. Verify the user\\'s login location and IP address.\\n2. Notify the user about suspicious activity.\\n3. Temporarily lock the account if deemed necessary.\\n', 'manual', 'resolved')\n"
     ]
    }
   ],
   "source": [
    "updated_alert = get_alert_from_db(alert_id)\n",
    "print(\"Updated Alert Record with Analysis and Response Mode:\")\n",
    "print(updated_alert)\n"
   ]
  },
  {
   "cell_type": "code",
   "execution_count": null,
   "id": "c27481a8-dbbc-4791-b2d7-79aeb97070a7",
   "metadata": {},
   "outputs": [],
   "source": []
  },
  {
   "cell_type": "markdown",
   "id": "5cd33294-0b5f-40da-8d83-57c1ffe2b354",
   "metadata": {},
   "source": [
    "# Step 8: Implement Semi-Autonomous and Autonomous Modes"
   ]
  },
  {
   "cell_type": "code",
   "execution_count": 21,
   "id": "65ccbe5f-f670-44a3-aba4-be8d72b4dd26",
   "metadata": {},
   "outputs": [],
   "source": [
    "def process_alert(alert_id, response_mode):\n",
    "    \"\"\"\n",
    "    Process the alert based on the selected response mode: manual, semi_autonomous, or autonomous.\n",
    "    \"\"\"\n",
    "    # Retrieve the alert details\n",
    "    cursor.execute(\"SELECT response_plan FROM alerts WHERE id = ?\", (alert_id,))\n",
    "    response_plan = cursor.fetchone()[0]\n",
    "    \n",
    "    print(f\"Processing Alert ID: {alert_id} with Mode: {response_mode}\")\n",
    "    \n",
    "    if response_mode == \"manual\":\n",
    "        print(\"Manual Mode:\")\n",
    "        print(response_plan)\n",
    "        input(\"Press Enter once you’ve executed the response.\")\n",
    "    elif response_mode == \"semi_autonomous\":\n",
    "        print(\"Semi-Autonomous Mode:\")\n",
    "        print(response_plan)\n",
    "        execute = input(\"Execute response plan? (yes/no): \").strip().lower()\n",
    "        if execute == \"yes\":\n",
    "            print(\"Executing response...\")\n",
    "            execute_response_plan(alert_id)\n",
    "        else:\n",
    "            print(\"Response execution skipped.\")\n",
    "    elif response_mode == \"autonomous\":\n",
    "        print(\"Autonomous Mode:\")\n",
    "        print(\"Executing response automatically...\")\n",
    "        execute_response_plan(alert_id)\n",
    "    else:\n",
    "        print(\"Invalid response mode selected.\")\n",
    "\n",
    "def execute_response_plan(alert_id):\n",
    "    \"\"\"\n",
    "    Simulate the execution of the response plan.\n",
    "    \"\"\"\n",
    "    # Retrieve and display the response plan\n",
    "    cursor.execute(\"SELECT response_plan FROM alerts WHERE id = ?\", (alert_id,))\n",
    "    response_plan = cursor.fetchone()[0]\n",
    "    \n",
    "    # Simulated execution\n",
    "    print(\"Executing Response Plan:\")\n",
    "    print(response_plan)\n",
    "    print(\"All steps completed successfully.\")\n",
    "    \n",
    "    # Update alert status to resolved\n",
    "    cursor.execute(\"UPDATE alerts SET status = ? WHERE id = ?\", (\"resolved\", alert_id))\n",
    "    conn.commit()\n",
    "    print(f\"Alert ID: {alert_id} marked as resolved.\")\n"
   ]
  },
  {
   "cell_type": "code",
   "execution_count": 22,
   "id": "561dbb2e-6ec9-4826-b9c6-748a312979f2",
   "metadata": {},
   "outputs": [
    {
     "name": "stdout",
     "output_type": "stream",
     "text": [
      "Processing Alert ID: 1 with Mode: semi_autonomous\n",
      "Semi-Autonomous Mode:\n",
      "\n",
      "Root Cause Analysis:\n",
      "Alert Type: {\"alert_type\": \"suspicious_login\", \"details\": \"Login attempt from an unrecognized IP address.\"}\n",
      "\n",
      "Response Plan:\n",
      "1. Verify the user's login location and IP address.\n",
      "2. Notify the user about suspicious activity.\n",
      "3. Temporarily lock the account if deemed necessary.\n",
      "\n"
     ]
    },
    {
     "name": "stdin",
     "output_type": "stream",
     "text": [
      "Execute response plan? (yes/no):  yes\n"
     ]
    },
    {
     "name": "stdout",
     "output_type": "stream",
     "text": [
      "Executing response...\n",
      "Executing Response Plan:\n",
      "\n",
      "Root Cause Analysis:\n",
      "Alert Type: {\"alert_type\": \"suspicious_login\", \"details\": \"Login attempt from an unrecognized IP address.\"}\n",
      "\n",
      "Response Plan:\n",
      "1. Verify the user's login location and IP address.\n",
      "2. Notify the user about suspicious activity.\n",
      "3. Temporarily lock the account if deemed necessary.\n",
      "\n",
      "All steps completed successfully.\n",
      "Alert ID: 1 marked as resolved.\n"
     ]
    }
   ],
   "source": [
    "# Example: Process the alert in semi-autonomous mode\n",
    "response_mode = \"semi_autonomous\"  # Change to \"manual\" or \"autonomous\" as needed\n",
    "process_alert(alert_id, response_mode)\n"
   ]
  },
  {
   "cell_type": "markdown",
   "id": "ea3a2fd6-f39d-440d-a63e-4fe620150edc",
   "metadata": {},
   "source": [
    "# Step 9: Add Real-World Integrations\n"
   ]
  },
  {
   "cell_type": "code",
   "execution_count": 23,
   "id": "88f26512-6a35-461d-839a-a6999b951525",
   "metadata": {},
   "outputs": [],
   "source": [
    "import requests\n",
    "\n",
    "def notify_user(alert_id, user_email):\n",
    "    \"\"\"\n",
    "    Simulate notifying the user via a mock API call.\n",
    "    \"\"\"\n",
    "    api_url = \"https://example.com/notify\"\n",
    "    payload = {\"alert_id\": alert_id, \"user_email\": user_email, \"message\": \"Suspicious login detected.\"}\n",
    "\n",
    "    try:\n",
    "        response = requests.post(api_url, json=payload)\n",
    "        print(f\"Notification sent to {user_email}: {response.status_code}\")\n",
    "    except requests.exceptions.RequestException as e:\n",
    "        print(f\"Error notifying user: {e}\")\n",
    "\n",
    "def lock_account(user_id):\n",
    "    \"\"\"\n",
    "    Simulate locking the user's account via a mock API call.\n",
    "    \"\"\"\n",
    "    api_url = \"https://example.com/lock_account\"\n",
    "    payload = {\"user_id\": user_id}\n",
    "\n",
    "    try:\n",
    "        response = requests.post(api_url, json=payload)\n",
    "        print(f\"Account lock request sent for User ID {user_id}: {response.status_code}\")\n",
    "    except requests.exceptions.RequestException as e:\n",
    "        print(f\"Error locking account: {e}\")\n",
    "\n",
    "def execute_response_plan(alert_id, user_email, user_id):\n",
    "    \"\"\"\n",
    "    Execute the response plan, including notifying the user and locking the account.\n",
    "    \"\"\"\n",
    "    # Retrieve and display the response plan\n",
    "    cursor.execute(\"SELECT response_plan FROM alerts WHERE id = ?\", (alert_id,))\n",
    "    response_plan = cursor.fetchone()[0]\n",
    "    \n",
    "    print(\"Executing Response Plan:\")\n",
    "    print(response_plan)\n",
    "\n",
    "    # Notify the user\n",
    "    notify_user(alert_id, user_email)\n",
    "    \n",
    "    # Lock the user's account if necessary\n",
    "    lock_account(user_id)\n",
    "\n",
    "    # Mark the alert as resolved in the database\n",
    "    cursor.execute(\"UPDATE alerts SET status = ? WHERE id = ?\", (\"resolved\", alert_id))\n",
    "    conn.commit()\n",
    "    print(f\"Alert ID: {alert_id} marked as resolved.\")\n"
   ]
  },
  {
   "cell_type": "markdown",
   "id": "4a129a70-850b-4e39-ab73-75f25460c9e4",
   "metadata": {},
   "source": [
    "# Step 10: Test with Semi-Autonomous and Autonomous Modes\n"
   ]
  },
  {
   "cell_type": "code",
   "execution_count": 24,
   "id": "5a4e3865-bd92-48ad-befd-0fd181be4df2",
   "metadata": {},
   "outputs": [],
   "source": [
    "def process_alert(alert_id, response_mode, user_email=None, user_id=None):\n",
    "    \"\"\"\n",
    "    Process the alert based on the selected response mode: manual, semi_autonomous, or autonomous.\n",
    "    \"\"\"\n",
    "    # Retrieve the alert details\n",
    "    cursor.execute(\"SELECT response_plan FROM alerts WHERE id = ?\", (alert_id,))\n",
    "    response_plan = cursor.fetchone()[0]\n",
    "    \n",
    "    print(f\"Processing Alert ID: {alert_id} with Mode: {response_mode}\")\n",
    "    \n",
    "    if response_mode == \"manual\":\n",
    "        print(\"Manual Mode:\")\n",
    "        print(response_plan)\n",
    "        input(\"Press Enter once you’ve executed the response.\")\n",
    "    elif response_mode == \"semi_autonomous\":\n",
    "        print(\"Semi-Autonomous Mode:\")\n",
    "        print(response_plan)\n",
    "        execute = input(\"Execute response plan? (yes/no): \").strip().lower()\n",
    "        if execute == \"yes\":\n",
    "            print(\"Executing response...\")\n",
    "            execute_response_plan(alert_id, user_email, user_id)\n",
    "        else:\n",
    "            print(\"Response execution skipped.\")\n",
    "    elif response_mode == \"autonomous\":\n",
    "        print(\"Autonomous Mode:\")\n",
    "        print(\"Executing response automatically...\")\n",
    "        execute_response_plan(alert_id, user_email, user_id)\n",
    "    else:\n",
    "        print(\"Invalid response mode selected.\")\n"
   ]
  },
  {
   "cell_type": "markdown",
   "id": "9f5a297a-2cc1-4868-bdc5-0abb3e7dc559",
   "metadata": {},
   "source": [
    "# Step 11: Test the Full Workflow\n"
   ]
  },
  {
   "cell_type": "code",
   "execution_count": 25,
   "id": "8b9e27e8-38a1-45f6-bf7b-a5c66a8b6b02",
   "metadata": {},
   "outputs": [
    {
     "name": "stdout",
     "output_type": "stream",
     "text": [
      "Processing Alert ID: 1 with Mode: semi_autonomous\n",
      "Semi-Autonomous Mode:\n",
      "\n",
      "Root Cause Analysis:\n",
      "Alert Type: {\"alert_type\": \"suspicious_login\", \"details\": \"Login attempt from an unrecognized IP address.\"}\n",
      "\n",
      "Response Plan:\n",
      "1. Verify the user's login location and IP address.\n",
      "2. Notify the user about suspicious activity.\n",
      "3. Temporarily lock the account if deemed necessary.\n",
      "\n"
     ]
    },
    {
     "name": "stdin",
     "output_type": "stream",
     "text": [
      "Execute response plan? (yes/no):  yes\n"
     ]
    },
    {
     "name": "stdout",
     "output_type": "stream",
     "text": [
      "Executing response...\n",
      "Executing Response Plan:\n",
      "\n",
      "Root Cause Analysis:\n",
      "Alert Type: {\"alert_type\": \"suspicious_login\", \"details\": \"Login attempt from an unrecognized IP address.\"}\n",
      "\n",
      "Response Plan:\n",
      "1. Verify the user's login location and IP address.\n",
      "2. Notify the user about suspicious activity.\n",
      "3. Temporarily lock the account if deemed necessary.\n",
      "\n",
      "Notification sent to user@example.com: 405\n",
      "Account lock request sent for User ID 12345: 405\n",
      "Alert ID: 1 marked as resolved.\n"
     ]
    }
   ],
   "source": [
    "# Example alert details\n",
    "alert_id = 1 \n",
    "user_email = \"user@example.com\"\n",
    "user_id = 12345\n",
    "\n",
    "# Process the alert in semi-autonomous  mode\n",
    "response_mode = \"semi_autonomous\" \n",
    "process_alert(alert_id, response_mode, user_email=user_email, user_id=user_id)\n"
   ]
  },
  {
   "cell_type": "markdown",
   "id": "50ce10cc-0393-4e2c-9603-2b00dd7b2101",
   "metadata": {},
   "source": [
    "# Step 12: Add Logging for Execution Tracking\n"
   ]
  },
  {
   "cell_type": "code",
   "execution_count": 26,
   "id": "0da94cae-8945-4213-984a-38f63f2a9611",
   "metadata": {},
   "outputs": [],
   "source": [
    "import logging\n",
    "\n",
    "# Configure logging\n",
    "logging.basicConfig(\n",
    "    filename=\"soc_alerts.log\",\n",
    "    level=logging.INFO,\n",
    "    format=\"%(asctime)s - %(levelname)s - %(message)s\"\n",
    ")\n"
   ]
  },
  {
   "cell_type": "code",
   "execution_count": 27,
   "id": "1678b4cb-6074-49bb-8b76-a0ba4bd2c8be",
   "metadata": {},
   "outputs": [],
   "source": [
    "def notify_user(alert_id, user_email):\n",
    "    \"\"\"\n",
    "    Simulate notifying the user via a mock API call.\n",
    "    \"\"\"\n",
    "    api_url = \"https://example.com/notify\"\n",
    "    payload = {\"alert_id\": alert_id, \"user_email\": user_email, \"message\": \"Suspicious login detected.\"}\n",
    "\n",
    "    try:\n",
    "        response = requests.post(api_url, json=payload)\n",
    "        logging.info(f\"Notification sent to {user_email} for Alert ID {alert_id}: Status {response.status_code}\")\n",
    "        print(f\"Notification sent to {user_email}: {response.status_code}\")\n",
    "    except requests.exceptions.RequestException as e:\n",
    "        logging.error(f\"Error notifying user {user_email} for Alert ID {alert_id}: {e}\")\n",
    "        print(f\"Error notifying user: {e}\")\n"
   ]
  },
  {
   "cell_type": "code",
   "execution_count": 28,
   "id": "f6073c5d-a70e-44b9-a66a-05cbfc8e7fa1",
   "metadata": {},
   "outputs": [],
   "source": [
    "def lock_account(user_id):\n",
    "    \"\"\"\n",
    "    Simulate locking the user's account via a mock API call.\n",
    "    \"\"\"\n",
    "    api_url = \"https://example.com/lock_account\"\n",
    "    payload = {\"user_id\": user_id}\n",
    "\n",
    "    try:\n",
    "        response = requests.post(api_url, json=payload)\n",
    "        logging.info(f\"Account lock request sent for User ID {user_id}: Status {response.status_code}\")\n",
    "        print(f\"Account lock request sent for User ID {user_id}: {response.status_code}\")\n",
    "    except requests.exceptions.RequestException as e:\n",
    "        logging.error(f\"Error locking account for User ID {user_id}: {e}\")\n",
    "        print(f\"Error locking account: {e}\")\n"
   ]
  },
  {
   "cell_type": "code",
   "execution_count": 29,
   "id": "ec4eada2-9472-4bb9-b698-4e7a1e99ec0c",
   "metadata": {},
   "outputs": [],
   "source": [
    "def process_alert(alert_id, response_mode, user_email=None, user_id=None):\n",
    "    \"\"\"\n",
    "    Process the alert based on the selected response mode: manual, semi_autonomous, or autonomous.\n",
    "    \"\"\"\n",
    "    # Retrieve the alert details\n",
    "    cursor.execute(\"SELECT response_plan FROM alerts WHERE id = ?\", (alert_id,))\n",
    "    response_plan = cursor.fetchone()[0]\n",
    "    \n",
    "    logging.info(f\"Processing Alert ID {alert_id} with Mode: {response_mode}\")\n",
    "    print(f\"Processing Alert ID: {alert_id} with Mode: {response_mode}\")\n",
    "    \n",
    "    if response_mode == \"manual\":\n",
    "        logging.info(f\"Manual Mode activated for Alert ID {alert_id}.\")\n",
    "        print(\"Manual Mode:\")\n",
    "        print(response_plan)\n",
    "        input(\"Press Enter once you’ve executed the response.\")\n",
    "    elif response_mode == \"semi_autonomous\":\n",
    "        logging.info(f\"Semi-Autonomous Mode activated for Alert ID {alert_id}.\")\n",
    "        print(\"Semi-Autonomous Mode:\")\n",
    "        print(response_plan)\n",
    "        execute = input(\"Execute response plan? (yes/no): \").strip().lower()\n",
    "        if execute == \"yes\":\n",
    "            logging.info(f\"User confirmed execution for Alert ID {alert_id}.\")\n",
    "            print(\"Executing response...\")\n",
    "            execute_response_plan(alert_id, user_email, user_id)\n",
    "        else:\n",
    "            logging.info(f\"User skipped execution for Alert ID {alert_id}.\")\n",
    "            print(\"Response execution skipped.\")\n",
    "    elif response_mode == \"autonomous\":\n",
    "        logging.info(f\"Autonomous Mode activated for Alert ID {alert_id}. Executing automatically.\")\n",
    "        print(\"Autonomous Mode:\")\n",
    "        print(\"Executing response automatically...\")\n",
    "        execute_response_plan(alert_id, user_email, user_id)\n",
    "    else:\n",
    "        logging.error(f\"Invalid response mode {response_mode} for Alert ID {alert_id}.\")\n",
    "        print(\"Invalid response mode selected.\")\n"
   ]
  },
  {
   "cell_type": "code",
   "execution_count": 30,
   "id": "51abf3f3-2da7-416e-8a18-d6c58d237b7b",
   "metadata": {},
   "outputs": [
    {
     "name": "stdout",
     "output_type": "stream",
     "text": [
      "Processing Alert ID: 1 with Mode: semi_autonomous\n",
      "Semi-Autonomous Mode:\n",
      "\n",
      "Root Cause Analysis:\n",
      "Alert Type: {\"alert_type\": \"suspicious_login\", \"details\": \"Login attempt from an unrecognized IP address.\"}\n",
      "\n",
      "Response Plan:\n",
      "1. Verify the user's login location and IP address.\n",
      "2. Notify the user about suspicious activity.\n",
      "3. Temporarily lock the account if deemed necessary.\n",
      "\n"
     ]
    },
    {
     "name": "stdin",
     "output_type": "stream",
     "text": [
      "Execute response plan? (yes/no):  yes\n"
     ]
    },
    {
     "name": "stdout",
     "output_type": "stream",
     "text": [
      "Executing response...\n",
      "Executing Response Plan:\n",
      "\n",
      "Root Cause Analysis:\n",
      "Alert Type: {\"alert_type\": \"suspicious_login\", \"details\": \"Login attempt from an unrecognized IP address.\"}\n",
      "\n",
      "Response Plan:\n",
      "1. Verify the user's login location and IP address.\n",
      "2. Notify the user about suspicious activity.\n",
      "3. Temporarily lock the account if deemed necessary.\n",
      "\n",
      "Notification sent to user@example.com: 405\n",
      "Account lock request sent for User ID 12345: 405\n",
      "Alert ID: 1 marked as resolved.\n"
     ]
    }
   ],
   "source": [
    "# Example alert details\n",
    "alert_id = 1 \n",
    "user_email = \"user@example.com\"\n",
    "user_id = 12345\n",
    "\n",
    "# Process the alert in semi-autonomous mode\n",
    "response_mode = \"semi_autonomous\" \n",
    "process_alert(alert_id, response_mode, user_email=user_email, user_id=user_id)"
   ]
  },
  {
   "cell_type": "code",
   "execution_count": null,
   "id": "fbeaf4dc-b060-429c-9cfd-65fe705a0b07",
   "metadata": {},
   "outputs": [],
   "source": [
    "!cat soc_alerts.log"
   ]
  },
  {
   "cell_type": "markdown",
   "id": "25ee67bc-b652-4038-97f5-8ea9e1b68ff6",
   "metadata": {},
   "source": [
    "# Step 14: Autonomous resolution and Add Notification for Alert Resolution\n"
   ]
  },
  {
   "cell_type": "code",
   "execution_count": 32,
   "id": "c5020206-2edd-49e2-85f1-fbf353f5c186",
   "metadata": {},
   "outputs": [],
   "source": [
    "def notify_resolution(alert_id, user_email):\n",
    "    \"\"\"\n",
    "    Notify stakeholders about the resolution of an alert via a mock API call.\n",
    "    \"\"\"\n",
    "    api_url = \"https://example.com/notify_resolution\"\n",
    "    payload = {\n",
    "        \"alert_id\": alert_id,\n",
    "        \"user_email\": user_email,\n",
    "        \"message\": f\"Alert ID {alert_id} has been resolved successfully.\"\n",
    "    }\n",
    "\n",
    "    try:\n",
    "        response = requests.post(api_url, json=payload)\n",
    "        logging.info(f\"Resolution notification sent to {user_email} for Alert ID {alert_id}: Status {response.status_code}\")\n",
    "        print(f\"Resolution notification sent to {user_email}: {response.status_code}\")\n",
    "    except requests.exceptions.RequestException as e:\n",
    "        logging.error(f\"Error notifying resolution for Alert ID {alert_id}: {e}\")\n",
    "        print(f\"Error notifying resolution: {e}\")\n"
   ]
  },
  {
   "cell_type": "code",
   "execution_count": 33,
   "id": "abb72282-6bf6-43a5-b670-8c5efc52e90c",
   "metadata": {},
   "outputs": [],
   "source": [
    "def execute_response_plan(alert_id, user_email, user_id):\n",
    "    \"\"\"\n",
    "    Execute the response plan, including notifying the user, locking the account, and notifying resolution.\n",
    "    \"\"\"\n",
    "    # Retrieve and display the response plan\n",
    "    cursor.execute(\"SELECT response_plan FROM alerts WHERE id = ?\", (alert_id,))\n",
    "    response_plan = cursor.fetchone()[0]\n",
    "    \n",
    "    print(\"Executing Response Plan:\")\n",
    "    print(response_plan)\n",
    "\n",
    "    # Notify the user\n",
    "    notify_user(alert_id, user_email)\n",
    "    \n",
    "    # Lock the user's account if necessary\n",
    "    lock_account(user_id)\n",
    "\n",
    "    # Mark the alert as resolved in the database\n",
    "    cursor.execute(\"UPDATE alerts SET status = ? WHERE id = ?\", (\"resolved\", alert_id))\n",
    "    conn.commit()\n",
    "    logging.info(f\"Alert ID {alert_id} marked as resolved.\")\n",
    "    print(f\"Alert ID: {alert_id} marked as resolved.\")\n",
    "\n",
    "    # Notify resolution\n",
    "    notify_resolution(alert_id, user_email)\n"
   ]
  },
  {
   "cell_type": "code",
   "execution_count": 34,
   "id": "c364c78d-994f-440d-a07f-53a233636cc4",
   "metadata": {},
   "outputs": [
    {
     "name": "stdout",
     "output_type": "stream",
     "text": [
      "Processing Alert ID: 1 with Mode: autonomous\n",
      "Autonomous Mode:\n",
      "Executing response automatically...\n",
      "Executing Response Plan:\n",
      "\n",
      "Root Cause Analysis:\n",
      "Alert Type: {\"alert_type\": \"suspicious_login\", \"details\": \"Login attempt from an unrecognized IP address.\"}\n",
      "\n",
      "Response Plan:\n",
      "1. Verify the user's login location and IP address.\n",
      "2. Notify the user about suspicious activity.\n",
      "3. Temporarily lock the account if deemed necessary.\n",
      "\n",
      "Notification sent to user@example.com: 405\n",
      "Account lock request sent for User ID 12345: 405\n",
      "Alert ID: 1 marked as resolved.\n",
      "Resolution notification sent to user@example.com: 405\n"
     ]
    }
   ],
   "source": [
    "# Example alert details\n",
    "alert_id = 1  \n",
    "user_email = \"user@example.com\"\n",
    "user_id = 12345\n",
    "\n",
    "# Process the alert in autonomous mode for testing\n",
    "response_mode = \"autonomous\"\n",
    "process_alert(alert_id, response_mode, user_email=user_email, user_id=user_id)\n"
   ]
  },
  {
   "cell_type": "code",
   "execution_count": 35,
   "id": "9435dc03-bc4a-44f8-9296-2aeef62ec7d2",
   "metadata": {},
   "outputs": [
    {
     "name": "stdout",
     "output_type": "stream",
     "text": [
      "2024-12-31 16:07:02,355 - INFO - Processing Alert ID 1 with Mode: semi_autonomous\n",
      "2024-12-31 16:07:02,356 - INFO - Semi-Autonomous Mode activated for Alert ID 1.\n",
      "2024-12-31 16:07:05,954 - INFO - User confirmed execution for Alert ID 1.\n",
      "2024-12-31 16:07:06,159 - INFO - Notification sent to user@example.com for Alert ID 1: Status 405\n",
      "2024-12-31 16:07:06,443 - INFO - Account lock request sent for User ID 12345: Status 405\n",
      "2024-12-31 16:08:37,958 - INFO - Processing Alert ID 1 with Mode: autonomous\n",
      "2024-12-31 16:08:37,959 - INFO - Autonomous Mode activated for Alert ID 1. Executing automatically.\n",
      "2024-12-31 16:08:38,249 - INFO - Notification sent to user@example.com for Alert ID 1: Status 405\n",
      "2024-12-31 16:08:38,351 - INFO - Account lock request sent for User ID 12345: Status 405\n",
      "2024-12-31 16:08:38,352 - INFO - Alert ID 1 marked as resolved.\n",
      "2024-12-31 16:08:38,547 - INFO - Resolution notification sent to user@example.com for Alert ID 1: Status 405\n"
     ]
    }
   ],
   "source": [
    "!cat soc_alerts.log"
   ]
  },
  {
   "cell_type": "markdown",
   "id": "875da0c5-ebb5-479d-9fc7-94c41e7baca1",
   "metadata": {},
   "source": [
    "# Step 15: Add More Agentic Tools\n"
   ]
  },
  {
   "cell_type": "code",
   "execution_count": null,
   "id": "670159f7-56d6-4482-89db-cf04aff50f7c",
   "metadata": {},
   "outputs": [],
   "source": [
    "# Mock server \n",
    "\n",
    "# from flask import Flask, request, jsonify\n",
    "\n",
    "# app = Flask(__name__)\n",
    "\n",
    "# @app.route('/notify', methods=['POST'])\n",
    "# def notify():\n",
    "#     data = request.json\n",
    "#     return jsonify({\"status\": \"success\", \"message\": \"Notification sent\"}), 200\n",
    "\n",
    "# @app.route('/lock_account', methods=['POST'])\n",
    "# def lock_account():\n",
    "#     data = request.json\n",
    "#     return jsonify({\"status\": \"success\", \"message\": \"Account locked\"}), 200\n",
    "\n",
    "# if __name__ == \"__main__\":\n",
    "#     app.run(port=5000)\n",
    "\n",
    "# python serv.py"
   ]
  },
  {
   "cell_type": "code",
   "execution_count": 110,
   "id": "3c2a99c9-d71d-431d-8176-03b8bb491a12",
   "metadata": {},
   "outputs": [],
   "source": [
    "tools.append(\n",
    "    {\n",
    "        \"type\": \"function\",\n",
    "        \"function\": {\n",
    "            \"name\": \"prioritize_alerts\",\n",
    "            \"parameters\": {\n",
    "                \"type\": \"object\",\n",
    "                \"properties\": {\n",
    "                    \"alert_data\": {\"type\": \"string\"},\n",
    "                    \"priority\": {\"type\": \"string\", \"enum\": [\"high\", \"low\"]}  \n",
    "                },\n",
    "                \"required\": [\"alert_data\", \"priority\"] \n",
    "            }\n",
    "        }\n",
    "    }\n",
    ")\n"
   ]
  },
  {
   "cell_type": "code",
   "execution_count": 111,
   "id": "c07ce96d-b16a-4e42-a537-8601909b8b49",
   "metadata": {},
   "outputs": [],
   "source": [
    "refined_prompt = (\n",
    "    \"You are a SOC AI assistant. High-priority alerts include critical breaches, \"\n",
    "    \"ransomware attacks, multiple failed login attempts on admin consoles, or any event that poses \"\n",
    "    \"an immediate risk to sensitive systems or data. Respond with a JSON object in this format: \"\n",
    "    '{\"alert_data\": \"...\", \"priority\": \"high\"} or {\"alert_data\": \"...\", \"priority\": \"low\"}.'\n",
    ")\n",
    "\n",
    "\n",
    "def prioritize_alert(alert_data):\n",
    "    \"\"\"\n",
    "    Use OpenAI agentic tool to prioritize an alert, with explicit schema and logging for missing fields.\n",
    "    \"\"\"\n",
    "    completion = client.chat.completions.create(\n",
    "        model=\"gpt-4o\",\n",
    "        messages=[\n",
    "            {\"role\": \"system\", \"content\": refined_prompt},\n",
    "            {\"role\": \"user\", \"content\": f\"Prioritize this alert: {json.dumps(alert_data)}\"}\n",
    "        ],\n",
    "        tools=tools\n",
    "    )\n",
    "\n",
    "    # Log the full agent response\n",
    "    print(\"Full Agent Response:\", completion)\n",
    "\n",
    "    # Extract tool calls\n",
    "    tool_calls = completion.choices[0].message.tool_calls\n",
    "    if not tool_calls:\n",
    "        print(\"Error: No tool call generated by the agent.\")\n",
    "        return \"low\"\n",
    "\n",
    "    # Parse the priority from the response\n",
    "    tool_call = tool_calls[0]\n",
    "    print(\"Agent Raw Response:\", tool_call.function.arguments)\n",
    "    response_data = json.loads(tool_call.function.arguments)\n",
    "    priority = response_data.get(\"priority\")\n",
    "    if not priority:\n",
    "        print(\"Error: Missing 'priority' in response. Defaulting to 'low'.\")\n",
    "        return \"low\"\n",
    "    print(f\"Alert Priority: {priority}\")\n",
    "    return priority\n"
   ]
  },
  {
   "cell_type": "code",
   "execution_count": 112,
   "id": "d902c5ca-4c90-4035-801f-024a3a01471e",
   "metadata": {},
   "outputs": [],
   "source": [
    "tools.append(\n",
    "    {\n",
    "        \"type\": \"function\",\n",
    "        \"function\": {\n",
    "            \"name\": \"escalate_alert\",\n",
    "            \"parameters\": {\n",
    "                \"type\": \"object\",\n",
    "                \"properties\": {\n",
    "                    \"alert_id\": {\"type\": \"integer\"},\n",
    "                    \"priority\": {\"type\": \"string\"}\n",
    "                },\n",
    "                \"required\": [\"alert_id\", \"priority\"]\n",
    "            }\n",
    "        }\n",
    "    }\n",
    ")\n"
   ]
  },
  {
   "cell_type": "code",
   "execution_count": 113,
   "id": "98c0f8e5-210e-4ad3-b604-2a8370d3e885",
   "metadata": {},
   "outputs": [],
   "source": [
    "def escalate_alert(alert_id, priority):\n",
    "    \"\"\"\n",
    "    Use OpenAI agentic tool to escalate a high-priority alert.\n",
    "    \"\"\"\n",
    "    completion = client.chat.completions.create(\n",
    "        model=\"gpt-4o\",\n",
    "        messages=[\n",
    "            {\"role\": \"system\", \"content\": \"You are a SOC escalation assistant.\"},\n",
    "            {\"role\": \"user\", \"content\": f\"Escalate this alert with ID {alert_id} and priority {priority}.\"}\n",
    "        ],\n",
    "        tools=tools\n",
    "    )\n",
    "    tool_call = completion.choices[0].message.tool_calls[0]\n",
    "    escalation_steps = json.loads(tool_call.function.arguments).get(\"escalation_steps\", [])\n",
    "    print(f\"Escalation Steps for Alert ID {alert_id}:\")\n",
    "    for step in escalation_steps:\n",
    "        print(f\"- {step}\")\n",
    "    return escalation_steps\n"
   ]
  },
  {
   "cell_type": "markdown",
   "id": "7e7782fc-7d69-4713-8267-4692e2eadefc",
   "metadata": {},
   "source": [
    "# Step 16: Integrate Agentic Tools into Workflow\n"
   ]
  },
  {
   "cell_type": "code",
   "execution_count": 73,
   "id": "b37bec89-8a6b-471c-951e-d496000a23df",
   "metadata": {},
   "outputs": [],
   "source": [
    "def notify_user(alert_id, user_email):\n",
    "    \"\"\"\n",
    "    Simulate notifying the user via a mock API call.\n",
    "    \"\"\"\n",
    "    payload = {\"alert_id\": alert_id, \"user_email\": user_email, \"message\": \"Unauthorized access attempt detected.\"}\n",
    "    response = requests.post(NOTIFY_API_URL, json=payload)\n",
    "    if response.status_code == 200:\n",
    "        print(f\"Notification sent to {user_email}: {response.status_code}\")\n",
    "    else:\n",
    "        print(f\"Failed to notify {user_email}: {response.status_code}, Details: {response.text}\")\n",
    "\n",
    "def lock_account(user_id):\n",
    "    \"\"\"\n",
    "    Simulate locking the user's account via a mock API call.\n",
    "    \"\"\"\n",
    "    payload = {\"user_id\": user_id}\n",
    "    response = requests.post(LOCK_ACCOUNT_API_URL, json=payload)\n",
    "    if response.status_code == 200:\n",
    "        print(f\"Account lock request sent for User ID {user_id}: {response.status_code}\")\n",
    "    else:\n",
    "        print(f\"Failed to lock account for User ID {user_id}: {response.status_code}, Details: {response.text}\")\n"
   ]
  },
  {
   "cell_type": "code",
   "execution_count": 74,
   "id": "ac6c6fcf-cf32-47ba-bedd-2a0eff47f7f7",
   "metadata": {},
   "outputs": [],
   "source": [
    "def execute_response_plan(alert_id, user_email, user_id):\n",
    "    \"\"\"\n",
    "    Execute the response plan, including notifying the user and locking the account.\n",
    "    \"\"\"\n",
    "    # Retrieve the response plan from the database\n",
    "    cursor.execute(\"SELECT response_plan FROM alerts WHERE id = ?\", (alert_id,))\n",
    "    response_plan = cursor.fetchone()[0]\n",
    "    \n",
    "    print(\"Executing Response Plan:\")\n",
    "    print(response_plan)\n",
    "\n",
    "    # Notify the user\n",
    "    notify_user(alert_id, user_email)\n",
    "\n",
    "    # Lock the user's account\n",
    "    lock_account(user_id)\n",
    "\n",
    "    # Mark the alert as resolved in the database\n",
    "    cursor.execute(\"UPDATE alerts SET status = ? WHERE id = ?\", (\"resolved\", alert_id))\n",
    "    conn.commit()\n",
    "    print(f\"Alert ID: {alert_id} marked as resolved.\")\n"
   ]
  },
  {
   "cell_type": "code",
   "execution_count": 84,
   "id": "15f00c39-24d1-4ab9-88be-80b3f0ae6cb4",
   "metadata": {},
   "outputs": [],
   "source": [
    "def process_alert(alert_id, response_mode, user_email=None, user_id=None):\n",
    "    \"\"\"\n",
    "    Process the alert with prioritization and escalation based on response mode.\n",
    "    \"\"\"\n",
    "    # Retrieve the alert details\n",
    "    cursor.execute(\"SELECT alert_data, response_plan FROM alerts WHERE id = ?\", (alert_id,))\n",
    "    alert_data, response_plan = cursor.fetchone()\n",
    "    alert_data = json.loads(alert_data)\n",
    "\n",
    "    # Generate the response plan if missing\n",
    "    if response_plan is None:\n",
    "        analysis = \"The alert was caused by unauthorized access attempt to a secure area.\"\n",
    "        response_plan = \"\"\"\n",
    "        Root Cause Analysis:\n",
    "        Alert Type: Unauthorized Access\n",
    "\n",
    "        Response Plan:\n",
    "        1. Verify the unauthorized access attempt.\n",
    "        2. Escalate to security personnel if necessary.\n",
    "        3. Lock the affected resources to prevent further access.\n",
    "        \"\"\"\n",
    "        save_analysis_and_response(alert_id, analysis, response_plan, response_mode)\n",
    "\n",
    "    # Determine the alert priority\n",
    "    priority = prioritize_alert(alert_data)\n",
    "    print(f\"Alert Priority: {priority}\")\n",
    "\n",
    "    # Handle high-priority alerts with escalation\n",
    "    if priority == \"high\":\n",
    "        escalation_steps = escalate_alert(alert_id, priority)\n",
    "        print(\"Escalation Steps Executed:\")\n",
    "        for step in escalation_steps:\n",
    "            print(f\"- {step}\")\n",
    "        logging.info(f\"Escalation steps executed for Alert ID {alert_id}: {escalation_steps}\")\n",
    "\n",
    "    # Continue processing based on response mode\n",
    "    print(f\"Processing Alert ID: {alert_id} with Mode: {response_mode}\")\n",
    "\n",
    "    if response_mode == \"manual\":\n",
    "        print(\"Manual Mode:\")\n",
    "        print(response_plan)\n",
    "        input(\"Press Enter once you’ve executed the response.\")\n",
    "    elif response_mode == \"semi_autonomous\":\n",
    "        print(\"Semi-Autonomous Mode:\")\n",
    "        print(response_plan)\n",
    "        execute = input(\"Execute response plan? (yes/no): \").strip().lower()\n",
    "        if execute == \"yes\":\n",
    "            print(\"Executing response...\")\n",
    "            execute_response_plan(alert_id, user_email, user_id)\n",
    "        else:\n",
    "            print(\"Response execution skipped.\")\n",
    "    elif response_mode == \"autonomous\":\n",
    "        print(\"Autonomous Mode:\")\n",
    "        print(\"Executing response automatically...\")\n",
    "        execute_response_plan(alert_id, user_email, user_id)\n",
    "    else:\n",
    "        print(\"Invalid response mode selected.\")\n"
   ]
  },
  {
   "cell_type": "markdown",
   "id": "0f7a4719-37db-4f36-a6d2-3c78626647aa",
   "metadata": {},
   "source": [
    "# Step 17: Test the Enhanced Workflow with high and low priority issues\n"
   ]
  },
  {
   "cell_type": "code",
   "execution_count": 67,
   "id": "56c457c4-1600-47f0-8e71-72331616b021",
   "metadata": {},
   "outputs": [],
   "source": [
    "NOTIFY_API_URL = \"http://localhost:5000/notify\"\n",
    "LOCK_ACCOUNT_API_URL = \"http://localhost:5000/lock_account\"\n"
   ]
  },
  {
   "cell_type": "code",
   "execution_count": 117,
   "id": "645d5380-16d4-4ecc-b76e-81a2e9bb1203",
   "metadata": {},
   "outputs": [
    {
     "data": {
      "text/plain": [
       "19"
      ]
     },
     "execution_count": 117,
     "metadata": {},
     "output_type": "execute_result"
    }
   ],
   "source": [
    "alert = {\n",
    "    \"alert_type\": \"unauthorized_access\",\n",
    "    \"details\": \"Unauthorized access attempt to a secure area.\"\n",
    "}\n",
    "receive_alert(alert)\n"
   ]
  },
  {
   "cell_type": "code",
   "execution_count": 118,
   "id": "ede233a5-4e1c-413a-bb4b-772779fe7070",
   "metadata": {},
   "outputs": [
    {
     "name": "stdout",
     "output_type": "stream",
     "text": [
      "Analysis and response plan saved for Alert ID: 19\n",
      "Full Agent Response: ChatCompletion(id='chatcmpl-AkhTRe7auao64MwNogQ3AEdnFy6K4', choices=[Choice(finish_reason='tool_calls', index=0, logprobs=None, message=ChatCompletionMessage(content=None, refusal=None, role='assistant', audio=None, function_call=None, tool_calls=[ChatCompletionMessageToolCall(id='call_IombfDZ0TatjjQx8KNtswZYo', function=Function(arguments='{\"alert_data\":\"{\\\\\"alert_type\\\\\": \\\\\"unauthorized_access\\\\\", \\\\\"details\\\\\": \\\\\"Unauthorized access attempt to a secure area.\\\\\"}\"}', name='analyze_alert'), type='function')]))], created=1735693565, model='gpt-4o-2024-08-06', object='chat.completion', service_tier=None, system_fingerprint='fp_d28bcae782', usage=CompletionUsage(completion_tokens=38, prompt_tokens=185, total_tokens=223, completion_tokens_details=CompletionTokensDetails(accepted_prediction_tokens=0, audio_tokens=0, reasoning_tokens=0, rejected_prediction_tokens=0), prompt_tokens_details=PromptTokensDetails(audio_tokens=0, cached_tokens=0)))\n",
      "Agent Raw Response: {\"alert_data\":\"{\\\"alert_type\\\": \\\"unauthorized_access\\\", \\\"details\\\": \\\"Unauthorized access attempt to a secure area.\\\"}\"}\n",
      "Error: Missing 'priority' in response. Defaulting to 'low'.\n",
      "Alert Priority: low\n",
      "Processing Alert ID: 19 with Mode: autonomous\n",
      "Autonomous Mode:\n",
      "Executing response automatically...\n",
      "Executing Response Plan:\n",
      "\n",
      "        Root Cause Analysis:\n",
      "        Alert Type: Unauthorized Access\n",
      "\n",
      "        Response Plan:\n",
      "        1. Verify the unauthorized access attempt.\n",
      "        2. Escalate to security personnel if necessary.\n",
      "        3. Lock the affected resources to prevent further access.\n",
      "        \n",
      "Notification sent to security@example.com: 200\n",
      "Account lock request sent for User ID 67890: 200\n",
      "Alert ID: 19 marked as resolved.\n"
     ]
    }
   ],
   "source": [
    "alert_id = 19  \n",
    "process_alert(alert_id, \"autonomous\", user_email=\"security@example.com\", user_id=67890)\n"
   ]
  },
  {
   "cell_type": "code",
   "execution_count": null,
   "id": "bde9a4d0-de49-48f3-887a-cdc164a0e63b",
   "metadata": {},
   "outputs": [],
   "source": []
  },
  {
   "cell_type": "code",
   "execution_count": 115,
   "id": "3ec1a34c-8ee2-4d10-9296-7264e3aab0c8",
   "metadata": {},
   "outputs": [
    {
     "data": {
      "text/plain": [
       "18"
      ]
     },
     "execution_count": 115,
     "metadata": {},
     "output_type": "execute_result"
    }
   ],
   "source": [
    "alert = {\n",
    "    \"alert_type\": \"critical_breach\",\n",
    "    \"details\": \"Unauthorized access detected on the admin console with multiple failed attempts in the past 5 minutes.\"\n",
    "}\n",
    "receive_alert(alert)\n"
   ]
  },
  {
   "cell_type": "code",
   "execution_count": 116,
   "id": "996d7c39-1fe5-4eb6-ba88-035e598e9397",
   "metadata": {},
   "outputs": [
    {
     "name": "stdout",
     "output_type": "stream",
     "text": [
      "Analysis and response plan saved for Alert ID: 18\n",
      "Full Agent Response: ChatCompletion(id='chatcmpl-AkhSzu7ltno8mPovH1q3OoaviQsfR', choices=[Choice(finish_reason='tool_calls', index=0, logprobs=None, message=ChatCompletionMessage(content=None, refusal=None, role='assistant', audio=None, function_call=None, tool_calls=[ChatCompletionMessageToolCall(id='call_7be6S74U8J6iBPFUA98f6dKh', function=Function(arguments='{\"alert_data\":\"{\\\\\"alert_type\\\\\": \\\\\"critical_breach\\\\\", \\\\\"details\\\\\": \\\\\"Unauthorized access detected on the admin console with multiple failed attempts in the past 5 minutes.\\\\\"}\",\"priority\":\"high\"}', name='prioritize_alerts'), type='function')]))], created=1735693537, model='gpt-4o-2024-08-06', object='chat.completion', service_tier=None, system_fingerprint='fp_d28bcae782', usage=CompletionUsage(completion_tokens=54, prompt_tokens=195, total_tokens=249, completion_tokens_details=CompletionTokensDetails(accepted_prediction_tokens=0, audio_tokens=0, reasoning_tokens=0, rejected_prediction_tokens=0), prompt_tokens_details=PromptTokensDetails(audio_tokens=0, cached_tokens=0)))\n",
      "Agent Raw Response: {\"alert_data\":\"{\\\"alert_type\\\": \\\"critical_breach\\\", \\\"details\\\": \\\"Unauthorized access detected on the admin console with multiple failed attempts in the past 5 minutes.\\\"}\",\"priority\":\"high\"}\n",
      "Alert Priority: high\n",
      "Alert Priority: high\n",
      "Escalation Steps for Alert ID 18:\n",
      "Escalation Steps Executed:\n",
      "Processing Alert ID: 18 with Mode: autonomous\n",
      "Autonomous Mode:\n",
      "Executing response automatically...\n",
      "Executing Response Plan:\n",
      "\n",
      "        Root Cause Analysis:\n",
      "        Alert Type: Unauthorized Access\n",
      "\n",
      "        Response Plan:\n",
      "        1. Verify the unauthorized access attempt.\n",
      "        2. Escalate to security personnel if necessary.\n",
      "        3. Lock the affected resources to prevent further access.\n",
      "        \n",
      "Notification sent to security@example.com: 200\n",
      "Account lock request sent for User ID 67890: 200\n",
      "Alert ID: 18 marked as resolved.\n"
     ]
    }
   ],
   "source": [
    "alert_id = 18 \n",
    "process_alert(alert_id, \"autonomous\", user_email=\"security@example.com\", user_id=67890)\n"
   ]
  },
  {
   "cell_type": "code",
   "execution_count": 121,
   "id": "12cb9b33-6745-4d11-89d0-a46f023cc6e7",
   "metadata": {},
   "outputs": [
    {
     "data": {
      "text/plain": [
       "21"
      ]
     },
     "execution_count": 121,
     "metadata": {},
     "output_type": "execute_result"
    }
   ],
   "source": [
    "alert = {\n",
    "    \"alert_type\": \"critical_breach\",\n",
    "    \"details\": \"Unauthorized access detected on the admin console with multiple failed attempts in the past 5 minutes.\"\n",
    "}\n",
    "receive_alert(alert)\n"
   ]
  },
  {
   "cell_type": "code",
   "execution_count": 124,
   "id": "ea7a4f44-ceae-4ccc-82ea-2d68f38c7d45",
   "metadata": {},
   "outputs": [
    {
     "name": "stdout",
     "output_type": "stream",
     "text": [
      "Full Agent Response: ChatCompletion(id='chatcmpl-AkiwCWjFJeL04CKkdyjeOt4rUYAdO', choices=[Choice(finish_reason='tool_calls', index=0, logprobs=None, message=ChatCompletionMessage(content=None, refusal=None, role='assistant', audio=None, function_call=None, tool_calls=[ChatCompletionMessageToolCall(id='call_jdo8s3MGE0Ihj5LRs0oyoT6L', function=Function(arguments='{\"alert_data\":\"{\\\\\"alert_type\\\\\": \\\\\"critical_breach\\\\\", \\\\\"details\\\\\": \\\\\"Unauthorized access detected on the admin console with multiple failed attempts in the past 5 minutes.\\\\\"}\",\"priority\":\"high\"}', name='prioritize_alerts'), type='function')]))], created=1735699192, model='gpt-4o-2024-08-06', object='chat.completion', service_tier=None, system_fingerprint='fp_d28bcae782', usage=CompletionUsage(completion_tokens=54, prompt_tokens=195, total_tokens=249, completion_tokens_details=CompletionTokensDetails(accepted_prediction_tokens=0, audio_tokens=0, reasoning_tokens=0, rejected_prediction_tokens=0), prompt_tokens_details=PromptTokensDetails(audio_tokens=0, cached_tokens=0)))\n",
      "Agent Raw Response: {\"alert_data\":\"{\\\"alert_type\\\": \\\"critical_breach\\\", \\\"details\\\": \\\"Unauthorized access detected on the admin console with multiple failed attempts in the past 5 minutes.\\\"}\",\"priority\":\"high\"}\n",
      "Alert Priority: high\n",
      "Alert Priority: high\n",
      "Escalation Steps for Alert ID 21:\n",
      "Escalation Steps Executed:\n",
      "Processing Alert ID: 21 with Mode: autonomous\n",
      "Autonomous Mode:\n",
      "Executing response automatically...\n",
      "Executing Response Plan:\n",
      "\n",
      "        Root Cause Analysis:\n",
      "        Alert Type: Unauthorized Access\n",
      "\n",
      "        Response Plan:\n",
      "        1. Verify the unauthorized access attempt.\n",
      "        2. Escalate to security personnel if necessary.\n",
      "        3. Lock the affected resources to prevent further access.\n",
      "        \n",
      "Notification sent to security@example.com: 200\n",
      "Account lock request sent for User ID 67890: 200\n",
      "Alert ID: 21 marked as resolved.\n"
     ]
    }
   ],
   "source": [
    "alert_id = 21 \n",
    "process_alert(alert_id, \"autonomous\", user_email=\"security@example.com\", user_id=67890)\n"
   ]
  },
  {
   "cell_type": "code",
   "execution_count": null,
   "id": "24f42460-8a51-468d-86af-68c8033cca8c",
   "metadata": {},
   "outputs": [],
   "source": []
  }
 ],
 "metadata": {
  "kernelspec": {
   "display_name": "Python 3 (ipykernel)",
   "language": "python",
   "name": "python3"
  },
  "language_info": {
   "codemirror_mode": {
    "name": "ipython",
    "version": 3
   },
   "file_extension": ".py",
   "mimetype": "text/x-python",
   "name": "python",
   "nbconvert_exporter": "python",
   "pygments_lexer": "ipython3",
   "version": "3.13.0"
  }
 },
 "nbformat": 4,
 "nbformat_minor": 5
}
